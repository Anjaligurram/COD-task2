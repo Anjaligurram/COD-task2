{
  "nbformat": 4,
  "nbformat_minor": 0,
  "metadata": {
    "colab": {
      "provenance": [],
      "authorship_tag": "ABX9TyPShEEE7f5Cxp293M6Dsl2Z",
      "include_colab_link": true
    },
    "kernelspec": {
      "name": "python3",
      "display_name": "Python 3"
    },
    "language_info": {
      "name": "python"
    }
  },
  "cells": [
    {
      "cell_type": "markdown",
      "metadata": {
        "id": "view-in-github",
        "colab_type": "text"
      },
      "source": [
        "<a href=\"https://colab.research.google.com/github/Anjaligurram/COD-task2/blob/main/SMSSpamDetection_and_handwrittentaskgeneration.ipynb\" target=\"_parent\"><img src=\"https://colab.research.google.com/assets/colab-badge.svg\" alt=\"Open In Colab\"/></a>"
      ]
    },
    {
      "cell_type": "code",
      "execution_count": null,
      "metadata": {
        "id": "JcKiAT65_Y8D"
      },
      "outputs": [],
      "source": [
        "import pandas as pd\n",
        "from sklearn.feature_extraction.text import TfidfVectorizer\n",
        "from sklearn.linear_model import LogisticRegression\n",
        "from sklearn.model_selection import train_test_split\n",
        "from sklearn.metrics import accuracy_score, classification_report"
      ]
    },
    {
      "cell_type": "code",
      "source": [
        "# Load the dataset\n",
        "df = pd.read_csv('/spam.csv', encoding='latin1')"
      ],
      "metadata": {
        "id": "7Os3bYox_hf8"
      },
      "execution_count": null,
      "outputs": []
    },
    {
      "cell_type": "code",
      "source": [
        "# Check the column names\n",
        "print(df.columns)"
      ],
      "metadata": {
        "colab": {
          "base_uri": "https://localhost:8080/"
        },
        "id": "N4_ReHAXCJNK",
        "outputId": "76d4cefb-2a1a-4155-8b57-202718feeccb"
      },
      "execution_count": null,
      "outputs": [
        {
          "output_type": "stream",
          "name": "stdout",
          "text": [
            "Index(['v1', 'v2', 'Unnamed: 2', 'Unnamed: 3', 'Unnamed: 4'], dtype='object')\n"
          ]
        }
      ]
    },
    {
      "cell_type": "code",
      "source": [
        "# Preprocess the text data\n",
        "vectorizer = TfidfVectorizer()\n",
        "X = vectorizer.fit_transform(df['v1'])\n",
        "y = df['v2']"
      ],
      "metadata": {
        "id": "lDe8UpTt_lYS"
      },
      "execution_count": null,
      "outputs": []
    },
    {
      "cell_type": "code",
      "source": [
        "# Check the distribution of the target variable\n",
        "class_distribution = df['v2'].value_counts()\n",
        "print(class_distribution)"
      ],
      "metadata": {
        "colab": {
          "base_uri": "https://localhost:8080/"
        },
        "id": "-RuAoqRACfYK",
        "outputId": "75411905-d279-464b-a891-c8e0f8ac38b3"
      },
      "execution_count": null,
      "outputs": [
        {
          "output_type": "stream",
          "name": "stdout",
          "text": [
            "v2\n",
            "Sorry, I'll call later                                                                                                                                                 30\n",
            "I cant pick the phone right now. Pls send a message                                                                                                                    12\n",
            "Ok...                                                                                                                                                                  10\n",
            "7 wonders in My WORLD 7th You 6th Ur style 5th Ur smile 4th Ur Personality 3rd Ur Nature 2nd Ur SMS and 1st \\Ur Lovely Friendship\\\"... good morning dear\"               4\n",
            "Say this slowly.? GOD,I LOVE YOU &amp; I NEED YOU,CLEAN MY HEART WITH YOUR BLOOD.Send this to Ten special people &amp; u c miracle tomorrow, do it,pls,pls do it...     4\n",
            "                                                                                                                                                                       ..\n",
            "I gotta collect da car at 6 lei.                                                                                                                                        1\n",
            "No. On the way home. So if not for the long dry spell the season would have been over                                                                                   1\n",
            "Urgent! Please call 09061743811 from landline. Your ABTA complimentary 4* Tenerife Holiday or å£5000 cash await collection SAE T&Cs Box 326 CW25WX 150ppm               1\n",
            "Dear 0776xxxxxxx U've been invited to XCHAT. This is our final attempt to contact u! Txt CHAT to 86688 150p/MsgrcvdHG/Suite342/2Lands/Row/W1J6HL LDN 18yrs              1\n",
            "Rofl. Its true to its name                                                                                                                                              1\n",
            "Name: count, Length: 5169, dtype: int64\n"
          ]
        }
      ]
    },
    {
      "cell_type": "code",
      "source": [
        "# Identify classes with few instances\n",
        "rare_classes = df['v2'].value_counts()[df['v2'].value_counts() <= 1].index\n",
        "\n",
        "# Combine rare classes into a single class\n",
        "df.loc[df['v2'].isin(rare_classes), 'v2'] = 'Rare'\n",
        "\n",
        "# Split the dataset into training and testing sets\n",
        "X_train, X_test, y_train, y_test = train_test_split(df['v1'], df['v2'], test_size=0.2, random_state=42, stratify=df['v2'])"
      ],
      "metadata": {
        "id": "xFNVeoiu_lby"
      },
      "execution_count": null,
      "outputs": []
    },
    {
      "cell_type": "code",
      "source": [
        "# Preprocess the text data using TF-IDF vectorization\n",
        "vectorizer = TfidfVectorizer()\n",
        "X_train_tfidf = vectorizer.fit_transform(X_train)\n",
        "X_test_tfidf = vectorizer.transform(X_test)\n",
        "\n",
        "# Train the logistic regression model\n",
        "lr_model = LogisticRegression()\n",
        "lr_model.fit(X_train_tfidf, y_train)"
      ],
      "metadata": {
        "colab": {
          "base_uri": "https://localhost:8080/",
          "height": 74
        },
        "id": "pDQl99uc_ley",
        "outputId": "ff7f5e61-e6fa-4ad2-f856-7df6b90a3d56"
      },
      "execution_count": null,
      "outputs": [
        {
          "output_type": "execute_result",
          "data": {
            "text/plain": [
              "LogisticRegression()"
            ],
            "text/html": [
              "<style>#sk-container-id-1 {color: black;background-color: white;}#sk-container-id-1 pre{padding: 0;}#sk-container-id-1 div.sk-toggleable {background-color: white;}#sk-container-id-1 label.sk-toggleable__label {cursor: pointer;display: block;width: 100%;margin-bottom: 0;padding: 0.3em;box-sizing: border-box;text-align: center;}#sk-container-id-1 label.sk-toggleable__label-arrow:before {content: \"▸\";float: left;margin-right: 0.25em;color: #696969;}#sk-container-id-1 label.sk-toggleable__label-arrow:hover:before {color: black;}#sk-container-id-1 div.sk-estimator:hover label.sk-toggleable__label-arrow:before {color: black;}#sk-container-id-1 div.sk-toggleable__content {max-height: 0;max-width: 0;overflow: hidden;text-align: left;background-color: #f0f8ff;}#sk-container-id-1 div.sk-toggleable__content pre {margin: 0.2em;color: black;border-radius: 0.25em;background-color: #f0f8ff;}#sk-container-id-1 input.sk-toggleable__control:checked~div.sk-toggleable__content {max-height: 200px;max-width: 100%;overflow: auto;}#sk-container-id-1 input.sk-toggleable__control:checked~label.sk-toggleable__label-arrow:before {content: \"▾\";}#sk-container-id-1 div.sk-estimator input.sk-toggleable__control:checked~label.sk-toggleable__label {background-color: #d4ebff;}#sk-container-id-1 div.sk-label input.sk-toggleable__control:checked~label.sk-toggleable__label {background-color: #d4ebff;}#sk-container-id-1 input.sk-hidden--visually {border: 0;clip: rect(1px 1px 1px 1px);clip: rect(1px, 1px, 1px, 1px);height: 1px;margin: -1px;overflow: hidden;padding: 0;position: absolute;width: 1px;}#sk-container-id-1 div.sk-estimator {font-family: monospace;background-color: #f0f8ff;border: 1px dotted black;border-radius: 0.25em;box-sizing: border-box;margin-bottom: 0.5em;}#sk-container-id-1 div.sk-estimator:hover {background-color: #d4ebff;}#sk-container-id-1 div.sk-parallel-item::after {content: \"\";width: 100%;border-bottom: 1px solid gray;flex-grow: 1;}#sk-container-id-1 div.sk-label:hover label.sk-toggleable__label {background-color: #d4ebff;}#sk-container-id-1 div.sk-serial::before {content: \"\";position: absolute;border-left: 1px solid gray;box-sizing: border-box;top: 0;bottom: 0;left: 50%;z-index: 0;}#sk-container-id-1 div.sk-serial {display: flex;flex-direction: column;align-items: center;background-color: white;padding-right: 0.2em;padding-left: 0.2em;position: relative;}#sk-container-id-1 div.sk-item {position: relative;z-index: 1;}#sk-container-id-1 div.sk-parallel {display: flex;align-items: stretch;justify-content: center;background-color: white;position: relative;}#sk-container-id-1 div.sk-item::before, #sk-container-id-1 div.sk-parallel-item::before {content: \"\";position: absolute;border-left: 1px solid gray;box-sizing: border-box;top: 0;bottom: 0;left: 50%;z-index: -1;}#sk-container-id-1 div.sk-parallel-item {display: flex;flex-direction: column;z-index: 1;position: relative;background-color: white;}#sk-container-id-1 div.sk-parallel-item:first-child::after {align-self: flex-end;width: 50%;}#sk-container-id-1 div.sk-parallel-item:last-child::after {align-self: flex-start;width: 50%;}#sk-container-id-1 div.sk-parallel-item:only-child::after {width: 0;}#sk-container-id-1 div.sk-dashed-wrapped {border: 1px dashed gray;margin: 0 0.4em 0.5em 0.4em;box-sizing: border-box;padding-bottom: 0.4em;background-color: white;}#sk-container-id-1 div.sk-label label {font-family: monospace;font-weight: bold;display: inline-block;line-height: 1.2em;}#sk-container-id-1 div.sk-label-container {text-align: center;}#sk-container-id-1 div.sk-container {/* jupyter's `normalize.less` sets `[hidden] { display: none; }` but bootstrap.min.css set `[hidden] { display: none !important; }` so we also need the `!important` here to be able to override the default hidden behavior on the sphinx rendered scikit-learn.org. See: https://github.com/scikit-learn/scikit-learn/issues/21755 */display: inline-block !important;position: relative;}#sk-container-id-1 div.sk-text-repr-fallback {display: none;}</style><div id=\"sk-container-id-1\" class=\"sk-top-container\"><div class=\"sk-text-repr-fallback\"><pre>LogisticRegression()</pre><b>In a Jupyter environment, please rerun this cell to show the HTML representation or trust the notebook. <br />On GitHub, the HTML representation is unable to render, please try loading this page with nbviewer.org.</b></div><div class=\"sk-container\" hidden><div class=\"sk-item\"><div class=\"sk-estimator sk-toggleable\"><input class=\"sk-toggleable__control sk-hidden--visually\" id=\"sk-estimator-id-1\" type=\"checkbox\" checked><label for=\"sk-estimator-id-1\" class=\"sk-toggleable__label sk-toggleable__label-arrow\">LogisticRegression</label><div class=\"sk-toggleable__content\"><pre>LogisticRegression()</pre></div></div></div></div></div>"
            ]
          },
          "metadata": {},
          "execution_count": 11
        }
      ]
    },
    {
      "cell_type": "code",
      "source": [
        "# Preprocess the testing set using the same TF-IDF vectorizer\n",
        "X_test_tfidf = vectorizer.transform(X_test)\n",
        "\n",
        "# Make predictions on the testing set\n",
        "y_pred = lr_model.predict(X_test_tfidf)"
      ],
      "metadata": {
        "id": "BwVwxf9T_lhj"
      },
      "execution_count": null,
      "outputs": []
    },
    {
      "cell_type": "code",
      "source": [
        "# Evaluate the model\n",
        "print(\"Logistic Regression:\")\n",
        "print(\"Accuracy:\", accuracy_score(y_test, y_pred))\n",
        "print(\"Classification Report:\\n\", classification_report(y_test, y_pred))"
      ],
      "metadata": {
        "colab": {
          "base_uri": "https://localhost:8080/"
        },
        "id": "46KBkJQ6_llH",
        "outputId": "18394555-0c48-490d-de31-188dc0d5716d"
      },
      "execution_count": null,
      "outputs": [
        {
          "output_type": "stream",
          "name": "stdout",
          "text": [
            "Logistic Regression:\n",
            "Accuracy: 0.8771300448430494\n",
            "Classification Report:\n",
            "                                                                                                                                                                                                                                                                                                                                                                                                                                                               precision    recall  f1-score   support\n",
            "\n",
            "                                                                                                                                                                                                                                                                                                               1) Go to write msg 2) Put on Dictionary mode 3)Cover the screen with hand, 4)Press  &lt;#&gt; . 5)Gently remove Ur hand.. Its interesting..:)       0.00      0.00      0.00         1\n",
            "                                                                                                                                                                                                                                                                                                                     18 days to Euro2004 kickoff! U will be kept informed of all the latest news and results daily. Unsubscribe send GET EURO STOP to 83222.       0.00      0.00      0.00         1\n",
            "                                                                                                                                                                                                                                                                                                   7 wonders in My WORLD 7th You 6th Ur style 5th Ur smile 4th Ur Personality 3rd Ur Nature 2nd Ur SMS and 1st \\Ur Lovely Friendship\\\"... good morning dear\"       0.00      0.00      0.00         1\n",
            "                                                                                                                                                                                                                                                                                                                                                                                                                                      Are you this much buzy       0.00      0.00      0.00         1\n",
            "                                                                                                                                                                                                                                                                                                As I entered my cabin my PA said, '' Happy B'day Boss !!''. I felt special. She askd me 4 lunch. After lunch she invited me to her apartment. We went there.       0.00      0.00      0.00         1\n",
            "                                                                                                                                                                                                                                                                                                   As a valued customer, I am pleased to advise you that following recent review of your Mob No. you are awarded with a å£1500 Bonus Prize, call 09066364589       0.00      0.00      0.00         1\n",
            "                                                                                                                                                                                                                                                                                                                    As per your request 'Maangalyam (Alaipayuthe)' has been set as your callertune for all Callers. Press *9 to copy your friends Callertune       0.00      0.00      0.00         1\n",
            "                                                                                                                                                                                                                                                                                            As per your request 'Melle Melle (Oru Minnaminunginte Nurungu Vettam)' has been set as your callertune for all Callers. Press *9 to copy your friends Callertune       0.00      0.00      0.00         1\n",
            "                                                                                                                                                                                                                                                                                                                                                                                                              As usual..iam fine, happy &amp; doing well..:)       0.00      0.00      0.00         1\n",
            "                                                                                                                                                                                                                                                                                                                                                             Bored housewives! Chat n date now! 0871750.77.11! BT-national rate 10p/min only from landlines!       0.00      0.00      0.00         1\n",
            "                                                                                                                                                                                                                                                                                                  Buy Space Invaders 4 a chance 2 win orig Arcade Game console. Press 0 for Games Arcade (std WAP charge) See o2.co.uk/games 4 Terms + settings. No purchase       0.00      0.00      0.00         1\n",
            "                                                                                                                                                                                                                                                                                                                                                  Camera - You are awarded a SiPix Digital Camera! call 09061221066 fromm landline. Delivery within 28 days.       0.00      0.00      0.00         1\n",
            "                                                                                                                                                                                                                                                                                            Congrats 2 mobile 3G Videophones R yours. call 09063458130 now! videochat wid ur mates, play java games, Dload polypH music, noline rentl. bx420. ip4. 5we. 150p       0.00      0.00      0.00         1\n",
            "                                                                                                                                                                                                                                                                                               Congrats! Nokia 3650 video camera phone is your Call 09066382422 Calls cost 150ppm Ave call 3mins vary from mobiles 16+ Close 300603 post BCM4284 Ldn WC1N3XX       0.00      0.00      0.00         1\n",
            "                                                                                                                                                                                                                                                                                                      Congratulations ur awarded 500 of CD vouchers or 125gift guaranteed & Free entry 2 100 wkly draw txt MUSIC to 87066 TnCs www.Ldew.com1win150ppmx3age16       0.00      0.00      0.00         1\n",
            "                                                                                                                                                                                                                                                                                                                                                                                                                                    Convey my regards to him       0.00      0.00      0.00         1\n",
            "                                                                                                                                                                                                                                                                                                                                                                                                                                Did u got that persons story       0.00      0.00      0.00         1\n",
            "                                                                                                                                                                                                                                                                                                     Do you know why god created gap between your fingers..? So that, One who is made for you comes &amp; fills those gaps by holding your hand with LOVE..!       0.00      0.00      0.00         1\n",
            "                                                                                                                                                                                                                                                                                              FREE for 1st week! No1 Nokia tone 4 ur mob every week just txt NOKIA to 8007 Get txting and tell ur mates www.getzed.co.uk POBox 36504 W45WQ norm150p/tone 16+       0.00      0.00      0.00         1\n",
            "                                                                                                                                                                                                                                                                                          FREE for 1st week! No1 Nokia tone 4 ur mobile every week just txt NOKIA to 8077 Get txting and tell ur mates. www.getzed.co.uk POBox 36504 W45WQ 16+ norm150p/tone       0.00      0.00      0.00         1\n",
            "                                                                                                                                                                                                                                                                                   Feb  &lt;#&gt;  is \\I LOVE U\\\" day. Send dis to all ur \\\"VALUED FRNDS\\\" evn me. If 3 comes back u'll gt married d person u luv! If u ignore dis u will lose ur luv 4 Evr\"       0.00      0.00      0.00         1\n",
            "                                                                                                                                                                                                                                                                                                       Fighting with the world is easy, u either win or lose bt fightng with some1 who is close to u is dificult if u lose - u lose if u win - u still lose.       0.00      0.00      0.00         1\n",
            "                                                                                                                                                                                                                                                                                                                                                                                          Good Morning my Dear........... Have a great &amp; successful day.       0.00      0.00      0.00         1\n",
            "                                                                                                                                                                                                                                                                                                                                                                                                                                Good Morning plz call me sir       0.00      0.00      0.00         1\n",
            "                                                                                                                                                                                                                                                                                                                                                                                                                Good night my dear.. Sleepwell&amp;Take care       0.00      0.00      0.00         1\n",
            "                                                                                                                                                                                                                                                                                            Great NEW Offer - DOUBLE Mins & DOUBLE Txt on best Orange tariffs AND get latest camera phones 4 FREE! Call MobileUpd8 free on 08000839402 NOW! or 2stoptxt T&Cs       0.00      0.00      0.00         1\n",
            "                                                                                                                                                                                                                                                                                                                                                                                                                                Gud mrng dear hav a nice day       0.00      0.00      0.00         1\n",
            "                                                                                                                                                                                                                                                                                                                                                                                                       Gud ni8 dear..slp well..take care..swt dreams..Muah..       0.00      0.00      0.00         1\n",
            "                                                                                                                                                                                                                                                                                                 HMV BONUS SPECIAL 500 pounds of genuine HMV vouchers to be won. Just answer 4 easy questions. Play Now! Send HMV to 86688 More info:www.100percent-real.com       0.00      0.00      0.00         1\n",
            "                                                                                                                                                                                                                                                                                                                                                       HOT LIVE FANTASIES call now 08707509020 Just 20p per min NTT Ltd, PO Box 1327 Croydon CR9 5WB 0870..k       0.00      0.00      0.00         1\n",
            "                                                                                                                                                                                                                                                                                                  Had your mobile 11 months or more? U R entitled to Update to the latest colour mobiles with camera for Free! Call The Mobile Update Co FREE on 08002986030       0.00      0.00      0.00         1\n",
            "                                                                                                                                                                                                                                                                                                                                                                                                                                 Hahaha..use your brain dear       0.00      0.00      0.00         1\n",
            "                                                                                                                                                                                                                                                                                                           Hard LIVE 121 chat just 60p/min. Choose your girl and connect LIVE. Call 09094646899 now! Cheap Chat UK's biggest live service. VU BCM1896WC1N3XX       0.00      0.00      0.00         1\n",
            "                                                                                                                                                                                                                                                                                                                                                                                 He says hi and to get your ass back to south tampa (preferably at a kegger)       0.00      0.00      0.00         1\n",
            "                                                                                                                                                                                                                                                                                                                              Hi! You just spoke to MANEESHA V. We'd like to know if you were satisfied with the experience. Reply Toll Free with Yes or No.       0.00      0.00      0.00         1\n",
            "                                                                                                                                                                                                                                                                                              Honeybee Said: *I'm d Sweetest in d World* God Laughed &amp; Said: *Wait,U Havnt Met d Person Reading This Msg* MORAL: Even GOD Can Crack Jokes! GM+GN+GE+GN:)       0.00      0.00      0.00         1\n",
            "                                                                                                                                                                                                                                                                                                                                                                                                                            Hope you are having a great day.       0.00      0.00      0.00         1\n",
            "                                                                                                                                                                                                                                                                                      House-Maid is the murderer, coz the man was murdered on  &lt;#&gt; th January.. As public holiday all govt.instituitions are closed,including post office..understand?       0.00      0.00      0.00         1\n",
            "                                                                                                                                                                                                                                                                                                                                                                How are you doing? Hope you've settled in for the new school year. Just wishin you a gr8 day       0.00      0.00      0.00         1\n",
            "                                                                                                                                                                                                                                                                                                                                                                                                                                     Howz that persons story       0.00      0.00      0.00         1\n",
            "                                                                                                                                                                                                                                                                                                                                                                                       I am in escape theatre now. . Going to watch KAVALAN in a few minutes       0.00      0.00      0.00         1\n",
            "                                                                                                                                                                                                                                                                                                                                                                                                                               I am late. I will be there at       0.00      0.00      0.00         1\n",
            "                                                                                                                                                                                                                                                                                                                                                                                                         I cant pick the phone right now. Pls send a message       0.00      0.00      0.00         3\n",
            "                                                                                                                                                                                                                                                                                              I don't know u and u don't know me. Send CHAT to 86688 now and let's find each other! Only 150p/Msg rcvd. HG/Suite342/2Lands/Row/W1J6HL LDN. 18 years or over.       0.00      0.00      0.00         1\n",
            "                                                                                                                                                                                                                                                                                                                                                                                                                  I dont thnk its a wrong calling between us       0.00      0.00      0.00         1\n",
            "                                                                                                                                                                                                                                                                                                                                                                                                       I had askd u a question some hours before. Its answer       0.00      0.00      0.00         1\n",
            "                                                                                                                                                                                                                                                                                                                                                                                                                    I keep ten rs in my shelf:) buy two egg.       0.00      0.00      0.00         1\n",
            "                                                                                                                                                                                                                                                                                                                                                                                                                                    I went to project centre       0.00      0.00      0.00         1\n",
            "                                                                                                                                                                                                                                                                                                                                                                                                                                     I will come tomorrow di       0.00      0.00      0.00         1\n",
            "                                                                                                                                                                                                                                                                                                                                                                                                                 I will reach ur home in  &lt;#&gt;  minutes       0.00      0.00      0.00         1\n",
            "                                                                                                                                                                                                                                                                                                      I wnt to buy a BMW car urgently..its vry urgent.but hv a shortage of  &lt;#&gt; Lacs.there is no source to arng dis amt. &lt;#&gt; lacs..thats my prob       0.00      0.00      0.00         1\n",
            "                                                                                                                                                                                                                                                                                                                                                                                                                                    I'm at home. Please call       0.00      0.00      0.00         1\n",
            "                                                                                                                                                                                                                                                                                                                                                                                                                                    I'm at work. Please call       0.00      0.00      0.00         1\n",
            "                                                                                                                                                                                                                                                                                                                                                                                                                          I'm in a meeting, call me later at       0.00      0.00      0.00         1\n",
            "                                                                                                                                                                                                                                                                                                                                                                     If he started searching he will get job in few days.he have great potential and talent.       0.00      0.00      0.00         1\n",
            "                                                                                                                                                                                                                                                                                                                                                                                                                 If you r @ home then come down within 5 min       0.00      0.00      0.00         1\n",
            "                                                                                                                                                                                                                                                                                                                                                                                                                                  Just sleeping..and surfing       0.00      0.00      0.00         1\n",
            "                                                                                                                                                                                                                                                                                                                                                                                                                                     K. I will sent it again       0.00      0.00      0.00         1\n",
            "                                                                                                                                                                                                                                                                                                                                                                                                     K..k..i'm also fine:)when will you complete the course?       0.00      0.00      0.00         1\n",
            "                                                                                                                                                                                                                                                                                        Loan for any purpose å£500 - å£75,000. Homeowners + Tenants welcome. Have you been previously refused? We can still help. Call Free 0800 1956669 or text back 'help'       0.00      0.00      0.00         1\n",
            "                                                                                                                                                                                                                                                                                                                                                                                                                                Love you aathi..love u lot..       0.00      0.00      0.00         1\n",
            "                                                                                                                                                                                                                                                                                                                                                                                                                                    May i call You later Pls       0.00      0.00      0.00         1\n",
            "                                                                                                                                                                                                                                                                                                                                                                                                                                     Me fine..absolutly fine       0.00      0.00      0.00         1\n",
            "                                                                                                                                                                                                                                                                                             Mila, age23, blonde, new in UK. I look sex with UK guys. if u like fun with me. Text MTALK to 69866.18 . 30pp/txt 1st 5free. å£1.50 increments. Help08718728876       0.00      0.00      0.00         1\n",
            "                                                                                                                                                                                                                                                                                                                          My Parents, My Kidz, My Friends n My Colleagues. All screaming.. SURPRISE !! and I was waiting on the sofa.. ... ..... ' NAKED...!       0.00      0.00      0.00         1\n",
            "                                                                                                                                                                                                                                                                                                                                                                                                       My uncles in Atlanta. Wish you guys a great semester.       0.00      0.00      0.00         1\n",
            "                                                                                                                                                                                                                                                                                                                    Natalja (25/F) is inviting you to be her friend. Reply YES-440 or NO-440 See her: www.SMS.ac/u/nat27081980 STOP? Send STOP FRND to 62468       0.00      0.00      0.00         1\n",
            "                                                                                                                                                                                                                                                                                                           New Theory: Argument wins d SITUATION, but loses the PERSON. So dont argue with ur friends just.. . . . kick them &amp; say, I'm always correct.!       0.00      0.00      0.00         1\n",
            "                                                                                                                                                                                                                                                                                                Night has ended for another day, morning has come in a special way. May you smile like the sunny rays and leaves your worries at the blue blue bay. Gud mrng       0.00      0.00      0.00         1\n",
            "                                                                                                                                                                                                                                                                                                                                                                                                                            No calls..messages..missed calls       0.00      0.00      0.00         1\n",
            "                                                                                                                                                                                                                                                                                                                                                                                                                      No message..no responce..what happend?       0.00      0.00      0.00         1\n",
            "                                                                                                                                                                                                                                                                                                                                                                                                              No no. I will check all rooms befor activities       0.00      0.00      0.00         1\n",
            "                                                                                                                                                                                                                                                                                                             No. 1 Nokia Tone 4 ur mob every week! Just txt NOK to 87021. 1st Tone FREE ! so get txtin now and tell ur friends. 150p/tone. 16 reply HL 4info       0.00      0.00      0.00         1\n",
            "                                                                                                                                                                                                                                                                                                                                                                                                     Oh ho. Is this the first time u use these type of words       0.00      0.00      0.00         1\n",
            "                                                                                                                                                                                                                                                                                                                                                                                                                                                          Ok       0.00      0.00      0.00         1\n",
            "                                                                                                                                                                                                                                                                                                                                                                                     Ok . . now i am in bus. . If i come soon i will come otherwise tomorrow       0.00      0.00      0.00         1\n",
            "                                                                                                                                                                                                                                                                                                                                                                                                                                                   Ok lor...       0.00      0.00      0.00         1\n",
            "                                                                                                                                                                                                                                                                                                                                                                                                                                                         Ok.       0.00      0.00      0.00         1\n",
            "                                                                                                                                                                                                                                                                                                                                                                                                                                                       Ok...       0.00      0.00      0.00         2\n",
            "                                                                                                                                                                                                                                                                                                                                                                                                                        Ok.ok ok..then..whats ur todays plan       0.00      0.00      0.00         1\n",
            "                                                                                                                                                                                                                                                                                                                                                                                                                                                        Okie       0.00      0.00      0.00         1\n",
            "                                                                                                                                                                                                                                                                                                                                                                                                                                                     Okie...       0.00      0.00      0.00         1\n",
            "                                                                                                                                                                                                                                                                                                                                                                                                                    Otherwise had part time job na-tuition..       0.00      0.00      0.00         1\n",
            "                                                                                                                                                                                                                                                                                                       Please call our customer service representative on FREEPHONE 0808 145 4742 between 9am-11pm as you have WON a guaranteed å£1000 cash or å£5000 prize!       0.00      0.00      0.00         1\n",
            "                                                                                                                                                                                     Plz note: if anyone calling from a mobile Co. &amp; asks u to type # &lt;#&gt;  or # &lt;#&gt; . Do not do so. Disconnect the call,coz it iz an attempt of 'terrorist' to make use of the sim card no. Itz confirmd by nokia n motorola n has been verified by CNN IBN.       0.00      0.00      0.00         1\n",
            "                                                                                                                                                                                                                                                                                                                                                                                                               Prabha..i'm soryda..realy..frm heart i'm sory       0.00      0.00      0.00         1\n",
            "                                                                                                                                                                                                                                                                                                              Purity of friendship between two is not about smiling after reading the forwarded message..Its about smiling just by seeing the name. Gud evng       0.00      0.00      0.00         1\n",
            "                                                                                                                                                                                                                                                                                                       Purity of friendship between two is not about smiling after reading the forwarded message..Its about smiling just by seeing the name. Gud evng musthu       0.00      0.00      0.00         1\n",
            "                                                                                                                                                                                                                                                                                                                                                               Raji..pls do me a favour. Pls convey my Birthday wishes to Nimya. Pls. Today is her birthday.       0.00      0.00      0.00         1\n",
            "                                                                                                                                                                                                                                                                                                                                                                                                                                                        Rare       0.88      1.00      0.93       978\n",
            "                                                                                                                                                                   Rose for red,red for blood,blood for heart,heart for u. But u for me.... Send tis to all ur friends.. Including me.. If u like me.. If u get back, 1-u r poor in relation! 2-u need some 1 to support 3-u r frnd 2 many 4-some1 luvs u 5+- some1 is praying god to marry u.:-) try it....       0.00      0.00      0.00         1\n",
            "                                                                                                                                                                                                                                                                                                  Sad story of a Man - Last week was my b'day. My Wife did'nt wish me. My Parents forgot n so did my Kids . I went to work. Even my Colleagues did not wish.       0.00      0.00      0.00         1\n",
            "                                                                                                                                                                                                                                                                                         Say this slowly.? GOD,I LOVE YOU &amp; I NEED YOU,CLEAN MY HEART WITH YOUR BLOOD.Send this to Ten special people &amp; u c miracle tomorrow, do it,pls,pls do it...       0.00      0.00      0.00         1\n",
            "                                                                                                                                                                                                                                                                                                           She said,'' do u mind if I go into the bedroom for a minute ? '' ''OK'', I sed in a sexy mood. She came out 5 minuts latr wid a cake...n My Wife,       0.00      0.00      0.00         1\n",
            "Solve d Case : A Man Was Found Murdered On  &lt;DECIMAL&gt; . &lt;#&gt;  AfterNoon. 1,His wife called Police. 2,Police questioned everyone. 3,Wife: Sir,I was sleeping, when the murder took place. 4.Cook: I was cooking. 5.Gardener: I was picking vegetables. 6.House-Maid: I went 2 d post office. 7.Children: We went 2 play. 8.Neighbour: We went 2 a marriage. Police arrested d murderer Immediately. Who's It? Reply With Reason, If U r Brilliant.       0.00      0.00      0.00         1\n",
            "                                                                                                                                                                                                                                                                                                                                                                                                                            Sorry, I can't help you on this.       0.00      0.00      0.00         1\n",
            "                                                                                                                                                                                                                                                                                                                                                                                                                                      Sorry, I'll call later       0.00      0.00      0.00         6\n",
            "                                                                                                                                                                                                                                                                                                                                                                                                                         Still i have not checked it da. . .       0.00      0.00      0.00         1\n",
            "                                                                                                                                                                      Storming msg: Wen u lift d phne, u say \\HELLO\\\" Do u knw wt is d real meaning of HELLO?? . . . It's d name of a girl..! . . . Yes.. And u knw who is dat girl?? \\\"Margaret Hello\\\" She is d girlfrnd f Grahmbell who invnted telphone... . . . . Moral:One can 4get d name of a person       0.00      0.00      0.00         1\n",
            "                                                                                                                                                                                                                                                                                                                                                                                                                                     Stupid.its not possible       0.00      0.00      0.00         1\n",
            "                                                                                                                                                                                                                                                                                                                   Sunshine Quiz Wkly Q! Win a top Sony DVD player if u know which country Liverpool played in mid week? Txt ansr to 82277. å£1.50 SP:Tyrone       0.00      0.00      0.00         1\n",
            "                                                                                                                                                                                                                                                                                                                                           Tessy..pls do me a favor. Pls convey my birthday wishes to Nimya..pls dnt forget it. Today is her birthday Shijas       0.00      0.00      0.00         1\n",
            "                                                                                                                                                                                                                                                                                                  The sign of maturity is not when we start saying big things.. But actually it is, when we start understanding small things... *HAVE A NICE EVENING* BSLVYL       0.00      0.00      0.00         1\n",
            "                                                                                                                                                                                                                                                                                                Today is ACCEPT DAY..U Accept me as? Brother Sister Lover Dear1 Best1 Clos1 Lvblefrnd Jstfrnd Cutefrnd Lifpartnr Belovd Swtheart Bstfrnd No rply means enemy       0.00      0.00      0.00         1\n",
            "                                                                                                                                                                                                                                                                                            Today's Offer! Claim ur å£150 worth of discount vouchers! Text YES to 85023 now! SavaMob, member offers mobile! T Cs 08717898035. å£3.00 Sub. 16 . Unsub reply X       0.00      0.00      0.00         1\n",
            "                                                                                                                                                                                                                                                                                                         U have a secret admirer. REVEAL who thinks U R So special. Call 09065174042. To opt out Reply REVEAL STOP. 1.50 per msg recd. Cust care 07821230901       0.00      0.00      0.00         1\n",
            "                                                                                                                                                                                                                                                                                                URGENT! You have won a 1 week FREE membership in our å£100,000 Prize Jackpot! Txt the word: CLAIM to No: 81010 T&C www.dbuk.net LCCLTD POBOX 4403LDNW1A7RW18       0.00      0.00      0.00         1\n",
            "                                                                                                                                                                                                                                                                                                                                                                        Ummmmmaah Many many happy returns of d day my dear sweet heart.. HAPPY BIRTHDAY dear       0.00      0.00      0.00         1\n",
            "                                                                                                                                                                                                                                                                                          WELL DONE! Your 4* Costa Del Sol Holiday or å£5000 await collection. Call 09050090044 Now toClaim. SAE, TCs, POBox334, Stockport, SK38xh, Costå£1.50/pm, Max10mins       0.00      0.00      0.00         1\n",
            "                                                                                                                                                                                                                                                                                                         WIN a year supply of CDs 4 a store of ur choice worth å£500 & enter our å£100 Weekly draw txt MUSIC to 87066 Ts&Cs www.Ldew.com.subs16+1win150ppmx3       0.00      0.00      0.00         1\n",
            "                                                                                                                                                                                                                                                                                                 Want to funk up ur fone with a weekly new tone reply TONES2U 2 this text. www.ringtones.co.uk, the original n best. Tones 3GBP network operator rates apply       0.00      0.00      0.00         1\n",
            "                                                                                                                                                                                                                                                                                                                                     Wat makes some people dearer is not just de happiness dat u feel when u meet them but de pain u feel when u miss dem!!!       0.00      0.00      0.00         1\n",
            "                                                                                                                                                                                                                                                                                                                                                                                                                                              Wat r u doing?       0.00      0.00      0.00         1\n",
            "                                                                                                                                                                                                                                                                                                                                                                Watching cartoon, listening music &amp; at eve had to go temple &amp; church.. What about u?       0.00      0.00      0.00         1\n",
            "                                                                                                                                                                                                                                                                         Wen ur lovable bcums angry wid u, dnt take it seriously.. Coz being angry is d most childish n true way of showing deep affection, care n luv!.. kettoda manda... Have nice day da.       0.00      0.00      0.00         1\n",
            "                                                                                                                                                                                                                                                                                                                                                                                                          What Today-sunday..sunday is holiday..so no work..       0.00      0.00      0.00         1\n",
            "                                                                                                                                                                                                                                                                                                                                                                                                                                 What you doing?how are you?       0.00      0.00      0.00         1\n",
            "                                                                                                                                                                                                                                                                                                                                                                                                                         Whatsup there. Dont u want to sleep       0.00      0.00      0.00         1\n",
            "                                                                                                                                                                                                                                                                                                                                                                                                                Wife.how she knew the time of murder exactly       0.00      0.00      0.00         1\n",
            "                                                                                                                                                                                                                                                                                                                                                                                 Wishing you and your family Merry \\X\\\" mas and HAPPY NEW Year in advance..\"       0.00      0.00      0.00         1\n",
            "                                                                                                                                                                                                                                                                                                                                               YES! The only place in town to meet exciting adult singles is now in the UK. Txt CHAT to 86688 now! 150p/Msg.       0.00      0.00      0.00         1\n",
            "                                                                                                                                                                                                                                                                                                                                                                                                                       Ya very nice. . .be ready on thursday       0.00      0.00      0.00         1\n",
            "                                                                                                                                                                                                                                                                                                                                                    Yes..he is really great..bhaji told kallis best cricketer after sachin in world:).very tough to get out.       0.00      0.00      0.00         1\n",
            "                                                                                                                                                                                                                                                                                                                                                                      You have an important customer service announcement. Call FREEPHONE 0800 542 0825 now!       0.00      0.00      0.00         1\n",
            "                                                                                                                                                                                                                                                                                                                                                                                                                        You will be in the place of that man       0.00      0.00      0.00         1\n",
            "                                                                                                                                                                                                                                                                                                                                             You've won tkts to the EURO2004 CUP FINAL or å£800 CASH, to collect CALL 09058099801 b4190604, POBOX 7876150ppm       0.00      0.00      0.00         1\n",
            "                                                                                                                                                                                                                                                                                                                    Your opinion about me? 1. Over 2. Jada 3. Kusruthi 4. Lovable 5. Silent 6. Spl character 7. Not matured 8. Stylish 9. Simple Pls reply..       0.00      0.00      0.00         1\n",
            "                                                                                                                                                                                                                                                                                                                                                                                                                                                   Yup ok...       0.00      0.00      0.00         1\n",
            "                                                                                                                                                                                                                                                                                                                                                                                                                                 aathi..where are you dear..       0.00      0.00      0.00         1\n",
            "                                                                                                                                                                                                                                                                                                                                                                 wiskey Brandy Rum Gin Beer Vodka Scotch Shampain Wine \\KUDI\\\"yarasu dhina vaazhthukkal. ..\"       0.00      0.00      0.00         1\n",
            "\n",
            "                                                                                                                                                                                                                                                                                                                                                                                                                                                    accuracy                           0.88      1115\n",
            "                                                                                                                                                                                                                                                                                                                                                                                                                                                   macro avg       0.01      0.01      0.01      1115\n",
            "                                                                                                                                                                                                                                                                                                                                                                                                                                                weighted avg       0.77      0.88      0.82      1115\n",
            "\n"
          ]
        },
        {
          "output_type": "stream",
          "name": "stderr",
          "text": [
            "/usr/local/lib/python3.10/dist-packages/sklearn/metrics/_classification.py:1344: UndefinedMetricWarning: Precision and F-score are ill-defined and being set to 0.0 in labels with no predicted samples. Use `zero_division` parameter to control this behavior.\n",
            "  _warn_prf(average, modifier, msg_start, len(result))\n",
            "/usr/local/lib/python3.10/dist-packages/sklearn/metrics/_classification.py:1344: UndefinedMetricWarning: Precision and F-score are ill-defined and being set to 0.0 in labels with no predicted samples. Use `zero_division` parameter to control this behavior.\n",
            "  _warn_prf(average, modifier, msg_start, len(result))\n",
            "/usr/local/lib/python3.10/dist-packages/sklearn/metrics/_classification.py:1344: UndefinedMetricWarning: Precision and F-score are ill-defined and being set to 0.0 in labels with no predicted samples. Use `zero_division` parameter to control this behavior.\n",
            "  _warn_prf(average, modifier, msg_start, len(result))\n"
          ]
        }
      ]
    },
    {
      "cell_type": "markdown",
      "source": [
        "Hand Written Task Generation"
      ],
      "metadata": {
        "id": "AWxBfLTxAIIb"
      }
    },
    {
      "cell_type": "code",
      "source": [
        "import tensorflow as tf\n",
        "from tensorflow.keras import layers, models\n",
        "import numpy as np\n",
        "\n",
        "# Placeholder data for training and test images\n",
        "train_images = np.random.rand(1000, 28, 28, 1)  # Random training images, assuming shape (1000, 28, 28, 1)\n",
        "test_images = np.random.rand(200, 28, 28, 1)    # Random test images, assuming shape (200, 28, 28, 1)\n",
        "\n",
        "# Define the number of classes\n",
        "num_classes = 10  # Assuming we're classifying handwritten digits (0-9)\n",
        "\n",
        "# Placeholder data for training and test labels\n",
        "train_labels = np.random.randint(0, num_classes, size=(1000,))  # Random training labels (0 to num_classes-1), assuming shape (1000,)\n",
        "test_labels = np.random.randint(0, num_classes, size=(200,))    # Random test labels (0 to num_classes-1), assuming shape (200,)\n",
        "\n",
        "\n",
        "# Define CNN architecture\n",
        "model = models.Sequential([\n",
        "    layers.Conv2D(32, (3, 3), activation='relu', input_shape=(28, 28, 1)),\n",
        "    layers.MaxPooling2D((2, 2)),\n",
        "    layers.Conv2D(64, (3, 3), activation='relu'),\n",
        "    layers.MaxPooling2D((2, 2)),\n",
        "    layers.Conv2D(64, (3, 3), activation='relu'),\n",
        "    layers.Flatten(),\n",
        "    layers.Dense(64, activation='relu'),\n",
        "    layers.Dense(num_classes, activation='softmax')\n",
        "])\n",
        "\n",
        "# Compile the model\n",
        "model.compile(optimizer='adam',\n",
        "              loss='sparse_categorical_crossentropy',\n",
        "              metrics=['accuracy'])\n",
        "\n",
        "# Train the model\n",
        "model.fit(train_images, train_labels, epochs=10, validation_data=(test_images, test_labels))\n",
        "\n",
        "# Save the trained model\n",
        "model.save('handwritten_text_generation_model.h5')\n"
      ],
      "metadata": {
        "colab": {
          "base_uri": "https://localhost:8080/"
        },
        "id": "DmlzTA-hRxBo",
        "outputId": "b52c3752-46d6-491a-d351-940f7ddad534"
      },
      "execution_count": null,
      "outputs": [
        {
          "output_type": "stream",
          "name": "stdout",
          "text": [
            "Epoch 1/10\n",
            "32/32 [==============================] - 4s 57ms/step - loss: 2.3096 - accuracy: 0.0960 - val_loss: 2.3024 - val_accuracy: 0.1000\n",
            "Epoch 2/10\n",
            "32/32 [==============================] - 1s 30ms/step - loss: 2.3017 - accuracy: 0.1080 - val_loss: 2.3023 - val_accuracy: 0.1100\n",
            "Epoch 3/10\n",
            "32/32 [==============================] - 1s 30ms/step - loss: 2.2995 - accuracy: 0.1060 - val_loss: 2.3042 - val_accuracy: 0.1350\n",
            "Epoch 4/10\n",
            "32/32 [==============================] - 1s 29ms/step - loss: 2.3001 - accuracy: 0.1040 - val_loss: 2.3027 - val_accuracy: 0.1100\n",
            "Epoch 5/10\n",
            "32/32 [==============================] - 1s 35ms/step - loss: 2.3010 - accuracy: 0.1140 - val_loss: 2.3019 - val_accuracy: 0.1100\n",
            "Epoch 6/10\n",
            "32/32 [==============================] - 2s 50ms/step - loss: 2.2984 - accuracy: 0.1100 - val_loss: 2.3034 - val_accuracy: 0.1100\n",
            "Epoch 7/10\n",
            "32/32 [==============================] - 1s 44ms/step - loss: 2.2990 - accuracy: 0.1210 - val_loss: 2.3029 - val_accuracy: 0.1000\n",
            "Epoch 8/10\n",
            "32/32 [==============================] - 1s 29ms/step - loss: 2.2961 - accuracy: 0.1180 - val_loss: 2.3026 - val_accuracy: 0.1100\n",
            "Epoch 9/10\n",
            "32/32 [==============================] - 1s 30ms/step - loss: 2.2953 - accuracy: 0.1140 - val_loss: 2.3040 - val_accuracy: 0.1100\n",
            "Epoch 10/10\n",
            "32/32 [==============================] - 1s 30ms/step - loss: 2.2918 - accuracy: 0.1210 - val_loss: 2.3058 - val_accuracy: 0.1100\n"
          ]
        },
        {
          "output_type": "stream",
          "name": "stderr",
          "text": [
            "/usr/local/lib/python3.10/dist-packages/keras/src/engine/training.py:3103: UserWarning: You are saving your model as an HDF5 file via `model.save()`. This file format is considered legacy. We recommend using instead the native Keras format, e.g. `model.save('my_model.keras')`.\n",
            "  saving_api.save_model(\n"
          ]
        }
      ]
    },
    {
      "cell_type": "code",
      "source": [
        "import matplotlib.pyplot as plt\n",
        "# Make predictions on the test dataset\n",
        "predictions = model.predict(test_images)\n",
        "\n",
        "# Choose a random sample from the test dataset\n",
        "index = np.random.randint(0, len(test_images))\n",
        "\n",
        "# Display the image\n",
        "plt.imshow(test_images[index], cmap='gray')\n",
        "plt.axis('off')\n",
        "plt.show()\n",
        "\n",
        "# Print the predicted label\n",
        "predicted_label = np.argmax(predictions[index])\n",
        "print('Predicted label:', predicted_label)"
      ],
      "metadata": {
        "colab": {
          "base_uri": "https://localhost:8080/",
          "height": 441
        },
        "id": "1W6I3Le6ShvC",
        "outputId": "49baa1b9-5501-4fe8-c4bf-297d94d894d8"
      },
      "execution_count": null,
      "outputs": [
        {
          "output_type": "stream",
          "name": "stdout",
          "text": [
            "7/7 [==============================] - 0s 13ms/step\n"
          ]
        },
        {
          "output_type": "display_data",
          "data": {
            "text/plain": [
              "<Figure size 640x480 with 1 Axes>"
            ],
            "image/png": "[encoded data removed]"
          },
          "metadata": {}
        },
        {
          "output_type": "stream",
          "name": "stdout",
          "text": [
            "Predicted label: 5\n"
          ]
        }
      ]
    }
  ]
}